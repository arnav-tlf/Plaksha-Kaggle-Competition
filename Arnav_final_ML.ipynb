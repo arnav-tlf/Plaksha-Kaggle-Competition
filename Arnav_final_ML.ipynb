{
 "cells": [
  {
   "cell_type": "code",
   "execution_count": 1,
   "metadata": {
    "_cell_guid": "b1076dfc-b9ad-4769-8c92-a6c4dae69d19",
    "_uuid": "8f2839f25d086af736a60e9eeb907d3b93b6e0e5",
    "execution": {
     "iopub.execute_input": "2021-11-30T00:35:05.268988Z",
     "iopub.status.busy": "2021-11-30T00:35:05.268093Z",
     "iopub.status.idle": "2021-11-30T00:35:05.279921Z",
     "shell.execute_reply": "2021-11-30T00:35:05.279045Z",
     "shell.execute_reply.started": "2021-11-30T00:35:05.268940Z"
    }
   },
   "outputs": [],
   "source": [
    "# This Python 3 environment comes with many helpful analytics libraries installed\n",
    "# It is defined by the kaggle/python Docker image: https://github.com/kaggle/docker-python\n",
    "# For example, here's several helpful packages to load\n",
    "\n",
    "import numpy as np # linear algebra\n",
    "import pandas as pd # data processing, CSV file I/O (e.g. pd.read_csv)\n",
    "\n",
    "# Input data files are available in the read-only \"../input/\" directory\n",
    "# For example, running this (by clicking run or pressing Shift+Enter) will list all files under the input directory\n",
    "\n",
    "import os\n",
    "for dirname, _, filenames in os.walk('/kaggle/input'):\n",
    "    for filename in filenames:\n",
    "        print(os.path.join(dirname, filename))\n",
    "\n",
    "# You can write up to 20GB to the current directory (/kaggle/working/) that gets preserved as output when you create a version using \"Save & Run All\" \n",
    "# You can also write temporary files to /kaggle/temp/, but they won't be saved outside of the current session"
   ]
  },
  {
   "cell_type": "markdown",
   "metadata": {},
   "source": [
    "Load Required Libraries "
   ]
  },
  {
   "cell_type": "code",
   "execution_count": 3,
   "metadata": {
    "execution": {
     "iopub.execute_input": "2021-11-30T00:35:05.284909Z",
     "iopub.status.busy": "2021-11-30T00:35:05.284108Z",
     "iopub.status.idle": "2021-11-30T00:35:05.293796Z",
     "shell.execute_reply": "2021-11-30T00:35:05.292447Z",
     "shell.execute_reply.started": "2021-11-30T00:35:05.284871Z"
    }
   },
   "outputs": [],
   "source": [
    "import pandas as pd\n",
    "import numpy as np\n",
    "import seaborn as sns\n",
    "import matplotlib.pyplot as plt\n",
    "from sklearn.model_selection import train_test_split\n",
    "from sklearn.tree import DecisionTreeClassifier\n",
    "from sklearn.model_selection import cross_val_score\n",
    "from sklearn.ensemble import BaggingClassifier\n",
    "from sklearn.ensemble import RandomForestClassifier\n",
    "from sklearn.preprocessing import StandardScaler\n",
    "from sklearn.neural_network import MLPClassifier\n",
    "from sklearn.linear_model import LogisticRegression\n",
    "from sklearn.ensemble import StackingClassifier\n",
    "from sklearn.ensemble import VotingClassifier\n",
    "from sklearn.metrics import accuracy_score\n",
    "from sklearn import preprocessing\n",
    "from sklearn.metrics import plot_confusion_matrix\n",
    "from sklearn.metrics import classification_report\n",
    "from sklearn.model_selection import GridSearchCV\n",
    "from sklearn.model_selection import KFold"
   ]
  },
  {
   "cell_type": "code",
   "execution_count": 4,
   "metadata": {
    "execution": {
     "iopub.execute_input": "2021-11-30T00:35:05.295949Z",
     "iopub.status.busy": "2021-11-30T00:35:05.295688Z",
     "iopub.status.idle": "2021-11-30T00:35:22.343624Z",
     "shell.execute_reply": "2021-11-30T00:35:22.342600Z",
     "shell.execute_reply.started": "2021-11-30T00:35:05.295919Z"
    }
   },
   "outputs": [],
   "source": [
    "input_data = pd.read_csv('C:\\\\Users\\\\LENOVO LEGION\\\\Desktop\\\\Machine Learning\\\\Untitled Folder\\\\train.csv')       #Read csv Training file."
   ]
  },
  {
   "cell_type": "code",
   "execution_count": 5,
   "metadata": {
    "execution": {
     "iopub.execute_input": "2021-11-30T00:35:22.346224Z",
     "iopub.status.busy": "2021-11-30T00:35:22.345964Z",
     "iopub.status.idle": "2021-11-30T00:35:22.370959Z",
     "shell.execute_reply": "2021-11-30T00:35:22.369945Z",
     "shell.execute_reply.started": "2021-11-30T00:35:22.346195Z"
    }
   },
   "outputs": [
    {
     "data": {
      "text/html": [
       "<div>\n",
       "<style scoped>\n",
       "    .dataframe tbody tr th:only-of-type {\n",
       "        vertical-align: middle;\n",
       "    }\n",
       "\n",
       "    .dataframe tbody tr th {\n",
       "        vertical-align: top;\n",
       "    }\n",
       "\n",
       "    .dataframe thead th {\n",
       "        text-align: right;\n",
       "    }\n",
       "</style>\n",
       "<table border=\"1\" class=\"dataframe\">\n",
       "  <thead>\n",
       "    <tr style=\"text-align: right;\">\n",
       "      <th></th>\n",
       "      <th>Unnamed: 0</th>\n",
       "      <th>lepton_1_pT</th>\n",
       "      <th>lepton_1_eta</th>\n",
       "      <th>lepton_1_phi</th>\n",
       "      <th>lepton_2_pT</th>\n",
       "      <th>lepton_2_eta</th>\n",
       "      <th>lepton_2_phi</th>\n",
       "      <th>missing_energy_magnitude</th>\n",
       "      <th>missing_energy_phi</th>\n",
       "      <th>MET_rel</th>\n",
       "      <th>axial_MET</th>\n",
       "      <th>M_R</th>\n",
       "      <th>M_TR_2</th>\n",
       "      <th>R</th>\n",
       "      <th>MT2</th>\n",
       "      <th>S_R</th>\n",
       "      <th>M_Delta_R</th>\n",
       "      <th>dPhi_r_b</th>\n",
       "      <th>cos(theta_r1)</th>\n",
       "      <th>class</th>\n",
       "    </tr>\n",
       "  </thead>\n",
       "  <tbody>\n",
       "    <tr>\n",
       "      <th>0</th>\n",
       "      <td>0</td>\n",
       "      <td>0.841381</td>\n",
       "      <td>1.832647</td>\n",
       "      <td>-0.689286</td>\n",
       "      <td>0.781839</td>\n",
       "      <td>0.572864</td>\n",
       "      <td>1.577097</td>\n",
       "      <td>0.398978</td>\n",
       "      <td>-0.683847</td>\n",
       "      <td>0.001826</td>\n",
       "      <td>0.651397</td>\n",
       "      <td>0.865560</td>\n",
       "      <td>0.429017</td>\n",
       "      <td>0.439840</td>\n",
       "      <td>0.000000</td>\n",
       "      <td>0.796105</td>\n",
       "      <td>0.342497</td>\n",
       "      <td>0.461542</td>\n",
       "      <td>0.005710</td>\n",
       "      <td>0.0</td>\n",
       "    </tr>\n",
       "    <tr>\n",
       "      <th>1</th>\n",
       "      <td>1</td>\n",
       "      <td>0.663798</td>\n",
       "      <td>2.058290</td>\n",
       "      <td>0.681435</td>\n",
       "      <td>1.054036</td>\n",
       "      <td>0.575352</td>\n",
       "      <td>-1.001445</td>\n",
       "      <td>0.462154</td>\n",
       "      <td>-0.833411</td>\n",
       "      <td>0.199734</td>\n",
       "      <td>0.215158</td>\n",
       "      <td>0.949988</td>\n",
       "      <td>0.618046</td>\n",
       "      <td>0.577324</td>\n",
       "      <td>0.000000</td>\n",
       "      <td>0.962927</td>\n",
       "      <td>0.333800</td>\n",
       "      <td>1.455247</td>\n",
       "      <td>0.101246</td>\n",
       "      <td>0.0</td>\n",
       "    </tr>\n",
       "    <tr>\n",
       "      <th>2</th>\n",
       "      <td>2</td>\n",
       "      <td>1.792225</td>\n",
       "      <td>-1.099978</td>\n",
       "      <td>0.088109</td>\n",
       "      <td>0.573157</td>\n",
       "      <td>-0.472629</td>\n",
       "      <td>1.642084</td>\n",
       "      <td>1.203374</td>\n",
       "      <td>1.506731</td>\n",
       "      <td>0.457695</td>\n",
       "      <td>-0.640507</td>\n",
       "      <td>1.157024</td>\n",
       "      <td>1.585432</td>\n",
       "      <td>1.215963</td>\n",
       "      <td>0.000000</td>\n",
       "      <td>1.113292</td>\n",
       "      <td>0.645729</td>\n",
       "      <td>0.721326</td>\n",
       "      <td>0.613326</td>\n",
       "      <td>1.0</td>\n",
       "    </tr>\n",
       "    <tr>\n",
       "      <th>3</th>\n",
       "      <td>3</td>\n",
       "      <td>0.893018</td>\n",
       "      <td>0.297782</td>\n",
       "      <td>-1.274870</td>\n",
       "      <td>1.316164</td>\n",
       "      <td>1.593303</td>\n",
       "      <td>0.672115</td>\n",
       "      <td>0.307014</td>\n",
       "      <td>-1.189868</td>\n",
       "      <td>0.064561</td>\n",
       "      <td>0.430909</td>\n",
       "      <td>1.162625</td>\n",
       "      <td>0.548821</td>\n",
       "      <td>0.418897</td>\n",
       "      <td>0.163908</td>\n",
       "      <td>1.157707</td>\n",
       "      <td>0.298163</td>\n",
       "      <td>0.803802</td>\n",
       "      <td>0.038902</td>\n",
       "      <td>0.0</td>\n",
       "    </tr>\n",
       "    <tr>\n",
       "      <th>4</th>\n",
       "      <td>4</td>\n",
       "      <td>1.338997</td>\n",
       "      <td>0.350023</td>\n",
       "      <td>-1.518510</td>\n",
       "      <td>1.482963</td>\n",
       "      <td>-0.491807</td>\n",
       "      <td>0.340170</td>\n",
       "      <td>0.415071</td>\n",
       "      <td>-1.292034</td>\n",
       "      <td>0.240712</td>\n",
       "      <td>0.611775</td>\n",
       "      <td>1.307798</td>\n",
       "      <td>0.697804</td>\n",
       "      <td>0.473487</td>\n",
       "      <td>0.429977</td>\n",
       "      <td>1.287935</td>\n",
       "      <td>0.330327</td>\n",
       "      <td>0.717237</td>\n",
       "      <td>0.003147</td>\n",
       "      <td>1.0</td>\n",
       "    </tr>\n",
       "  </tbody>\n",
       "</table>\n",
       "</div>"
      ],
      "text/plain": [
       "   Unnamed: 0  lepton_1_pT  lepton_1_eta  lepton_1_phi  lepton_2_pT  \\\n",
       "0           0     0.841381      1.832647     -0.689286     0.781839   \n",
       "1           1     0.663798      2.058290      0.681435     1.054036   \n",
       "2           2     1.792225     -1.099978      0.088109     0.573157   \n",
       "3           3     0.893018      0.297782     -1.274870     1.316164   \n",
       "4           4     1.338997      0.350023     -1.518510     1.482963   \n",
       "\n",
       "   lepton_2_eta  lepton_2_phi  missing_energy_magnitude  missing_energy_phi  \\\n",
       "0      0.572864      1.577097                  0.398978           -0.683847   \n",
       "1      0.575352     -1.001445                  0.462154           -0.833411   \n",
       "2     -0.472629      1.642084                  1.203374            1.506731   \n",
       "3      1.593303      0.672115                  0.307014           -1.189868   \n",
       "4     -0.491807      0.340170                  0.415071           -1.292034   \n",
       "\n",
       "    MET_rel  axial_MET       M_R    M_TR_2         R       MT2       S_R  \\\n",
       "0  0.001826   0.651397  0.865560  0.429017  0.439840  0.000000  0.796105   \n",
       "1  0.199734   0.215158  0.949988  0.618046  0.577324  0.000000  0.962927   \n",
       "2  0.457695  -0.640507  1.157024  1.585432  1.215963  0.000000  1.113292   \n",
       "3  0.064561   0.430909  1.162625  0.548821  0.418897  0.163908  1.157707   \n",
       "4  0.240712   0.611775  1.307798  0.697804  0.473487  0.429977  1.287935   \n",
       "\n",
       "   M_Delta_R  dPhi_r_b  cos(theta_r1)  class  \n",
       "0   0.342497  0.461542       0.005710    0.0  \n",
       "1   0.333800  1.455247       0.101246    0.0  \n",
       "2   0.645729  0.721326       0.613326    1.0  \n",
       "3   0.298163  0.803802       0.038902    0.0  \n",
       "4   0.330327  0.717237       0.003147    1.0  "
      ]
     },
     "execution_count": 5,
     "metadata": {},
     "output_type": "execute_result"
    }
   ],
   "source": [
    "input_data.head()"
   ]
  },
  {
   "cell_type": "code",
   "execution_count": 6,
   "metadata": {
    "execution": {
     "iopub.execute_input": "2021-11-30T00:35:22.372640Z",
     "iopub.status.busy": "2021-11-30T00:35:22.372360Z",
     "iopub.status.idle": "2021-11-30T00:35:22.379536Z",
     "shell.execute_reply": "2021-11-30T00:35:22.378569Z",
     "shell.execute_reply.started": "2021-11-30T00:35:22.372609Z"
    }
   },
   "outputs": [
    {
     "name": "stdout",
     "output_type": "stream",
     "text": [
      "(3500000, 20)\n"
     ]
    }
   ],
   "source": [
    "print(input_data.shape)"
   ]
  },
  {
   "cell_type": "code",
   "execution_count": 7,
   "metadata": {
    "execution": {
     "iopub.execute_input": "2021-11-30T00:35:22.381405Z",
     "iopub.status.busy": "2021-11-30T00:35:22.380987Z",
     "iopub.status.idle": "2021-11-30T00:35:34.133488Z",
     "shell.execute_reply": "2021-11-30T00:35:34.132353Z",
     "shell.execute_reply.started": "2021-11-30T00:35:22.381371Z"
    }
   },
   "outputs": [
    {
     "name": "stdout",
     "output_type": "stream",
     "text": [
      "        lepton_1_pT  lepton_1_eta  lepton_1_phi   lepton_2_pT  lepton_2_eta  \\\n",
      "count  3.500000e+06  3.500000e+06  3.500000e+06  3.500000e+06  3.500000e+06   \n",
      "mean   1.000232e+00  3.599349e-04  3.409634e-04  9.992382e-01  3.546249e-04   \n",
      "std    6.873955e-01  1.003109e+00  1.001971e+00  6.537354e-01  1.002817e+00   \n",
      "min    2.548815e-01 -2.102919e+00 -1.734789e+00  4.285860e-01 -2.059306e+00   \n",
      "25%    5.625003e-01 -7.569637e-01 -8.673235e-01  5.969753e-01 -7.693463e-01   \n",
      "50%    7.913588e-01  6.139759e-04 -3.000550e-04  7.997329e-01  1.132228e-04   \n",
      "75%    1.204264e+00  7.581109e-01  8.681473e-01  1.161961e+00  7.698279e-01   \n",
      "max    2.055345e+01  2.101605e+00  1.734839e+00  3.303562e+01  2.059721e+00   \n",
      "\n",
      "       lepton_2_phi  missing_energy_magnitude  missing_energy_phi  \\\n",
      "count  3.500000e+06              3.500000e+06        3.500000e+06   \n",
      "mean  -2.609503e-04              9.994536e-01       -4.940216e-04   \n",
      "std    1.001447e+00              8.724024e-01        1.001655e+00   \n",
      "min   -1.734202e+00              7.199480e-04       -1.727112e+00   \n",
      "25%   -8.680870e-01              4.781798e-01       -8.663442e-01   \n",
      "50%   -3.504302e-04              7.734768e-01       -1.038813e-02   \n",
      "75%    8.670100e-01              1.206897e+00        8.681880e-01   \n",
      "max    1.734686e+00              2.106888e+01        1.740689e+00   \n",
      "\n",
      "            MET_rel     axial_MET           M_R        M_TR_2             R  \\\n",
      "count  3.500000e+06  3.500000e+06  3.500000e+06  3.500000e+06  3.500000e+06   \n",
      "mean   1.000944e+00 -8.176786e-05  1.000253e+00  9.996171e-01  9.998163e-01   \n",
      "std    8.897569e-01  1.000707e+00  6.286597e-01  5.839003e-01  4.711496e-01   \n",
      "min    7.693475e-08 -1.533509e+01  2.680643e-01  2.427395e-03  4.528082e-03   \n",
      "25%    3.689606e-01 -4.920890e-01  5.883102e-01  6.222096e-01  6.503162e-01   \n",
      "50%    8.017117e-01 -8.002724e-02  8.284981e-01  8.778247e-01  9.341271e-01   \n",
      "75%    1.374708e+00  3.489328e-01  1.210956e+00  1.219851e+00  1.283126e+00   \n",
      "max    2.338644e+01  1.959220e+01  2.107572e+01  1.616682e+01  6.731210e+00   \n",
      "\n",
      "                MT2           S_R     M_Delta_R      dPhi_r_b  cos(theta_r1)  \n",
      "count  3.500000e+06  3.500000e+06  3.500000e+06  3.500000e+06   3.500000e+06  \n",
      "mean   1.000160e+00  9.999674e-01  9.997972e-01  9.992375e-01   2.248649e-01  \n",
      "std    8.590315e-01  6.205179e-01  6.235858e-01  4.361374e-01   1.970049e-01  \n",
      "min    0.000000e+00  2.734135e-02  4.452858e-03  3.211849e-07   1.498080e-07  \n",
      "25%    1.708098e-01  5.984608e-01  5.134528e-01  6.874365e-01   6.910075e-02  \n",
      "50%    9.014440e-01  8.353698e-01  9.137308e-01  1.094097e+00   1.671680e-01  \n",
      "75%    1.612343e+00  1.207777e+00  1.383827e+00  1.369023e+00   3.301480e-01  \n",
      "max    2.068624e+01  2.115226e+01  1.561370e+01  1.591660e+00   1.000000e+00  \n"
     ]
    },
    {
     "data": {
      "image/png": "[encoded data removed]",
      "text/plain": [
       "<Figure size 1440x1440 with 20 Axes>"
      ]
     },
     "metadata": {
      "needs_background": "light"
     },
     "output_type": "display_data"
    }
   ],
   "source": [
    "print(input_data[input_data.columns[1:19]].describe())\n",
    "input_data[input_data.columns[1:19]].hist(figsize=(20, 20), bins=100, xlabelsize=8, ylabelsize=8);"
   ]
  },
  {
   "cell_type": "code",
   "execution_count": 8,
   "metadata": {
    "execution": {
     "iopub.execute_input": "2021-11-30T00:35:34.585785Z",
     "iopub.status.busy": "2021-11-30T00:35:34.585066Z",
     "iopub.status.idle": "2021-11-30T00:35:35.016565Z",
     "shell.execute_reply": "2021-11-30T00:35:35.015522Z",
     "shell.execute_reply.started": "2021-11-30T00:35:34.585744Z"
    }
   },
   "outputs": [
    {
     "name": "stdout",
     "output_type": "stream",
     "text": [
      "[[ 0.8413806   1.83264732 -0.68928593 ...  0.3424969   0.46154228\n",
      "   0.00571049]\n",
      " [ 0.6637978   2.05828977  0.68143451 ...  0.33379972  1.45524657\n",
      "   0.101246  ]\n",
      " [ 1.79222548 -1.09997821  0.08810927 ...  0.64572853  0.72132576\n",
      "   0.61332601]\n",
      " ...\n",
      " [ 0.71973038 -0.65562296 -1.23680651 ...  1.26858485  1.24206197\n",
      "   0.26215601]\n",
      " [ 0.670955   -0.45062014 -0.88043845 ...  0.52153593  0.50242722\n",
      "   0.198597  ]\n",
      " [ 0.66509122  1.75135636 -0.65633553 ...  1.25793862  1.23822165\n",
      "   0.44918799]]\n"
     ]
    }
   ],
   "source": [
    "X = input_data.values[:, 1:19]\n",
    "Y = input_data.values[:, 19:]\n",
    "print(X)"
   ]
  },
  {
   "cell_type": "code",
   "execution_count": 9,
   "metadata": {
    "execution": {
     "iopub.execute_input": "2021-11-30T00:35:35.019183Z",
     "iopub.status.busy": "2021-11-30T00:35:35.018160Z",
     "iopub.status.idle": "2021-11-30T00:35:35.023996Z",
     "shell.execute_reply": "2021-11-30T00:35:35.023092Z",
     "shell.execute_reply.started": "2021-11-30T00:35:35.019128Z"
    }
   },
   "outputs": [],
   "source": [
    "#X_train,X_test, Y_train, Y_test = train_test_split(X, Y, test_size = 0.2, random_state = 42)"
   ]
  },
  {
   "cell_type": "code",
   "execution_count": 10,
   "metadata": {
    "execution": {
     "iopub.execute_input": "2021-11-30T00:35:35.029230Z",
     "iopub.status.busy": "2021-11-30T00:35:35.028541Z",
     "iopub.status.idle": "2021-11-30T00:35:36.984111Z",
     "shell.execute_reply": "2021-11-30T00:35:36.983024Z",
     "shell.execute_reply.started": "2021-11-30T00:35:35.029175Z"
    }
   },
   "outputs": [],
   "source": [
    "kf= KFold(n_splits = 5, random_state = 42, shuffle = True)\n",
    "for train_index, test_index in kf.split(X):\n",
    "    X_train, X_test = X[train_index,],X[test_index]\n",
    "    Y_train, Y_test = Y[train_index],Y[test_index]"
   ]
  },
  {
   "cell_type": "code",
   "execution_count": 11,
   "metadata": {
    "execution": {
     "iopub.execute_input": "2021-11-30T00:35:36.985702Z",
     "iopub.status.busy": "2021-11-30T00:35:36.985465Z",
     "iopub.status.idle": "2021-11-30T00:35:38.447589Z",
     "shell.execute_reply": "2021-11-30T00:35:38.446601Z",
     "shell.execute_reply.started": "2021-11-30T00:35:36.985671Z"
    }
   },
   "outputs": [],
   "source": [
    "sc=StandardScaler()\n",
    "scaler = sc.fit(X_train)\n",
    "X_train_scaled = scaler.transform(X_train)\n",
    "X_test_scaled = scaler.transform(X_test)"
   ]
  },
  {
   "cell_type": "code",
   "execution_count": 12,
   "metadata": {
    "execution": {
     "iopub.execute_input": "2021-11-30T00:42:01.943921Z",
     "iopub.status.busy": "2021-11-30T00:42:01.942922Z"
    }
   },
   "outputs": [
    {
     "name": "stderr",
     "output_type": "stream",
     "text": [
      "C:\\Users\\LENOVO LEGION\\anaconda3\\lib\\site-packages\\sklearn\\preprocessing\\_label.py:98: DataConversionWarning: A column-vector y was passed when a 1d array was expected. Please change the shape of y to (n_samples, ), for example using ravel().\n",
      "  y = column_or_1d(y, warn=True)\n",
      "C:\\Users\\LENOVO LEGION\\anaconda3\\lib\\site-packages\\sklearn\\preprocessing\\_label.py:133: DataConversionWarning: A column-vector y was passed when a 1d array was expected. Please change the shape of y to (n_samples, ), for example using ravel().\n",
      "  y = column_or_1d(y, warn=True)\n"
     ]
    },
    {
     "data": {
      "text/plain": [
       "VotingClassifier(estimators=[('mlp',\n",
       "                              MLPClassifier(hidden_layer_sizes=(100, 100),\n",
       "                                            max_iter=300, random_state=42)),\n",
       "                             ('rf',\n",
       "                              RandomForestClassifier(criterion='entropy',\n",
       "                                                     max_depth=16, n_jobs=-1,\n",
       "                                                     random_state=42))],\n",
       "                 voting='soft')"
      ]
     },
     "execution_count": 12,
     "metadata": {},
     "output_type": "execute_result"
    }
   ],
   "source": [
    "estimators = [('mlp', MLPClassifier(hidden_layer_sizes=(100,100), random_state = 42,\n",
    "                        max_iter = 300,activation = 'relu',\n",
    "                        solver = 'adam')),\n",
    "('rf',RandomForestClassifier(criterion = 'entropy', random_state=42, max_depth = 16, n_estimators=100, n_jobs=-1))]\n",
    "clf = VotingClassifier(estimators=estimators, voting = 'soft')\n",
    "clf.fit(X_train_scaled, Y_train)"
   ]
  },
  {
   "cell_type": "code",
   "execution_count": null,
   "metadata": {},
   "outputs": [],
   "source": [
    "#While only MLP gives slightly higher accuracy, Voting classifier should have a higher accuracy in a larger dataset.\n",
    "\n",
    "#clf = MLPClassifier(hidden_layer_sizes=(60,60), random_state = 42,\n",
    "#                        max_iter = 300,activation = 'relu',\n",
    "#                        solver = 'adam')\n",
    "#clf.fit(X_train_scaled, Y_train)"
   ]
  },
  {
   "cell_type": "code",
   "execution_count": 13,
   "metadata": {
    "execution": {
     "iopub.status.busy": "2021-11-30T00:39:11.842429Z",
     "iopub.status.idle": "2021-11-30T00:39:11.842760Z",
     "shell.execute_reply": "2021-11-30T00:39:11.842604Z",
     "shell.execute_reply.started": "2021-11-30T00:39:11.842588Z"
    }
   },
   "outputs": [
    {
     "data": {
      "text/plain": [
       "array([1., 1., 1., ..., 1., 0., 0.])"
      ]
     },
     "execution_count": 13,
     "metadata": {},
     "output_type": "execute_result"
    }
   ],
   "source": [
    "Y_pred = clf.predict(X_test_scaled)\n",
    "Y_pred"
   ]
  },
  {
   "cell_type": "code",
   "execution_count": 14,
   "metadata": {
    "execution": {
     "iopub.status.busy": "2021-11-30T00:39:11.844181Z",
     "iopub.status.idle": "2021-11-30T00:39:11.844499Z",
     "shell.execute_reply": "2021-11-30T00:39:11.844353Z",
     "shell.execute_reply.started": "2021-11-30T00:39:11.844336Z"
    }
   },
   "outputs": [
    {
     "name": "stdout",
     "output_type": "stream",
     "text": [
      "Accuracy is  0.8039928571428572\n"
     ]
    }
   ],
   "source": [
    "print(\"Accuracy is \", accuracy_score(Y_test,Y_pred))"
   ]
  },
  {
   "cell_type": "code",
   "execution_count": 15,
   "metadata": {
    "execution": {
     "iopub.status.busy": "2021-11-30T00:39:11.845985Z",
     "iopub.status.idle": "2021-11-30T00:39:11.846337Z",
     "shell.execute_reply": "2021-11-30T00:39:11.846182Z",
     "shell.execute_reply.started": "2021-11-30T00:39:11.846164Z"
    }
   },
   "outputs": [],
   "source": [
    "test_data = pd.read_csv('C:\\\\Users\\\\LENOVO LEGION\\\\Desktop\\\\Machine Learning\\\\Untitled Folder\\\\test.csv')"
   ]
  },
  {
   "cell_type": "code",
   "execution_count": 16,
   "metadata": {
    "execution": {
     "iopub.status.busy": "2021-11-30T00:39:11.847685Z",
     "iopub.status.idle": "2021-11-30T00:39:11.848026Z",
     "shell.execute_reply": "2021-11-30T00:39:11.847871Z",
     "shell.execute_reply.started": "2021-11-30T00:39:11.847855Z"
    }
   },
   "outputs": [],
   "source": [
    "X1 = test_data.values[:, 1:19]"
   ]
  },
  {
   "cell_type": "code",
   "execution_count": 17,
   "metadata": {
    "execution": {
     "iopub.status.busy": "2021-11-30T00:39:11.849818Z",
     "iopub.status.idle": "2021-11-30T00:39:11.850457Z",
     "shell.execute_reply": "2021-11-30T00:39:11.850296Z",
     "shell.execute_reply.started": "2021-11-30T00:39:11.850271Z"
    }
   },
   "outputs": [],
   "source": [
    "sc=StandardScaler()\n",
    "scaler = sc.fit(X1)\n",
    "X1_test_scaled = scaler.transform(X1)"
   ]
  },
  {
   "cell_type": "code",
   "execution_count": 18,
   "metadata": {
    "execution": {
     "iopub.status.busy": "2021-11-30T00:39:11.851958Z",
     "iopub.status.idle": "2021-11-30T00:39:11.852300Z",
     "shell.execute_reply": "2021-11-30T00:39:11.852145Z",
     "shell.execute_reply.started": "2021-11-30T00:39:11.852128Z"
    }
   },
   "outputs": [],
   "source": [
    "preds = clf.predict(X1_test_scaled)"
   ]
  },
  {
   "cell_type": "code",
   "execution_count": 19,
   "metadata": {
    "execution": {
     "iopub.status.busy": "2021-11-30T00:39:11.853584Z",
     "iopub.status.idle": "2021-11-30T00:39:11.853897Z",
     "shell.execute_reply": "2021-11-30T00:39:11.853753Z",
     "shell.execute_reply.started": "2021-11-30T00:39:11.853737Z"
    }
   },
   "outputs": [
    {
     "data": {
      "text/plain": [
       "0.0    910040\n",
       "1.0    589960\n",
       "dtype: int64"
      ]
     },
     "execution_count": 19,
     "metadata": {},
     "output_type": "execute_result"
    }
   ],
   "source": [
    "pd.Series(preds).value_counts()"
   ]
  },
  {
   "cell_type": "code",
   "execution_count": 20,
   "metadata": {
    "execution": {
     "iopub.status.busy": "2021-11-30T00:39:11.854885Z",
     "iopub.status.idle": "2021-11-30T00:39:11.855207Z",
     "shell.execute_reply": "2021-11-30T00:39:11.855041Z",
     "shell.execute_reply.started": "2021-11-30T00:39:11.855025Z"
    }
   },
   "outputs": [],
   "source": [
    "preds = pd.DataFrame(preds)"
   ]
  },
  {
   "cell_type": "code",
   "execution_count": 21,
   "metadata": {
    "execution": {
     "iopub.status.busy": "2021-11-30T00:39:11.856350Z",
     "iopub.status.idle": "2021-11-30T00:39:11.856657Z",
     "shell.execute_reply": "2021-11-30T00:39:11.856507Z",
     "shell.execute_reply.started": "2021-11-30T00:39:11.856491Z"
    }
   },
   "outputs": [
    {
     "data": {
      "text/html": [
       "<div>\n",
       "<style scoped>\n",
       "    .dataframe tbody tr th:only-of-type {\n",
       "        vertical-align: middle;\n",
       "    }\n",
       "\n",
       "    .dataframe tbody tr th {\n",
       "        vertical-align: top;\n",
       "    }\n",
       "\n",
       "    .dataframe thead th {\n",
       "        text-align: right;\n",
       "    }\n",
       "</style>\n",
       "<table border=\"1\" class=\"dataframe\">\n",
       "  <thead>\n",
       "    <tr style=\"text-align: right;\">\n",
       "      <th></th>\n",
       "      <th>0</th>\n",
       "    </tr>\n",
       "  </thead>\n",
       "  <tbody>\n",
       "    <tr>\n",
       "      <th>0</th>\n",
       "      <td>1.0</td>\n",
       "    </tr>\n",
       "    <tr>\n",
       "      <th>1</th>\n",
       "      <td>0.0</td>\n",
       "    </tr>\n",
       "    <tr>\n",
       "      <th>2</th>\n",
       "      <td>0.0</td>\n",
       "    </tr>\n",
       "    <tr>\n",
       "      <th>3</th>\n",
       "      <td>1.0</td>\n",
       "    </tr>\n",
       "    <tr>\n",
       "      <th>4</th>\n",
       "      <td>1.0</td>\n",
       "    </tr>\n",
       "    <tr>\n",
       "      <th>...</th>\n",
       "      <td>...</td>\n",
       "    </tr>\n",
       "    <tr>\n",
       "      <th>1499995</th>\n",
       "      <td>0.0</td>\n",
       "    </tr>\n",
       "    <tr>\n",
       "      <th>1499996</th>\n",
       "      <td>1.0</td>\n",
       "    </tr>\n",
       "    <tr>\n",
       "      <th>1499997</th>\n",
       "      <td>0.0</td>\n",
       "    </tr>\n",
       "    <tr>\n",
       "      <th>1499998</th>\n",
       "      <td>1.0</td>\n",
       "    </tr>\n",
       "    <tr>\n",
       "      <th>1499999</th>\n",
       "      <td>0.0</td>\n",
       "    </tr>\n",
       "  </tbody>\n",
       "</table>\n",
       "<p>1500000 rows × 1 columns</p>\n",
       "</div>"
      ],
      "text/plain": [
       "           0\n",
       "0        1.0\n",
       "1        0.0\n",
       "2        0.0\n",
       "3        1.0\n",
       "4        1.0\n",
       "...      ...\n",
       "1499995  0.0\n",
       "1499996  1.0\n",
       "1499997  0.0\n",
       "1499998  1.0\n",
       "1499999  0.0\n",
       "\n",
       "[1500000 rows x 1 columns]"
      ]
     },
     "execution_count": 21,
     "metadata": {},
     "output_type": "execute_result"
    }
   ],
   "source": [
    "preds"
   ]
  },
  {
   "cell_type": "code",
   "execution_count": 22,
   "metadata": {
    "execution": {
     "iopub.status.busy": "2021-11-30T00:39:11.858055Z",
     "iopub.status.idle": "2021-11-30T00:39:11.858429Z",
     "shell.execute_reply": "2021-11-30T00:39:11.858274Z",
     "shell.execute_reply.started": "2021-11-30T00:39:11.858255Z"
    }
   },
   "outputs": [],
   "source": [
    "preds.rename({0: 'class'}, axis=1, inplace=True)"
   ]
  },
  {
   "cell_type": "code",
   "execution_count": 23,
   "metadata": {
    "execution": {
     "iopub.status.busy": "2021-11-30T00:39:11.859419Z",
     "iopub.status.idle": "2021-11-30T00:39:11.859740Z",
     "shell.execute_reply": "2021-11-30T00:39:11.859575Z",
     "shell.execute_reply.started": "2021-11-30T00:39:11.859560Z"
    }
   },
   "outputs": [
    {
     "name": "stdout",
     "output_type": "stream",
     "text": [
      "         class\n",
      "0          1.0\n",
      "1          0.0\n",
      "2          0.0\n",
      "3          1.0\n",
      "4          1.0\n",
      "...        ...\n",
      "1499995    0.0\n",
      "1499996    1.0\n",
      "1499997    0.0\n",
      "1499998    1.0\n",
      "1499999    0.0\n",
      "\n",
      "[1500000 rows x 1 columns]\n"
     ]
    }
   ],
   "source": [
    "print(preds)"
   ]
  },
  {
   "cell_type": "code",
   "execution_count": 24,
   "metadata": {
    "execution": {
     "iopub.status.busy": "2021-11-30T00:39:11.861415Z",
     "iopub.status.idle": "2021-11-30T00:39:11.861795Z",
     "shell.execute_reply": "2021-11-30T00:39:11.861589Z",
     "shell.execute_reply.started": "2021-11-30T00:39:11.861572Z"
    }
   },
   "outputs": [],
   "source": [
    "pd.DataFrame(preds).to_csv('submisssion_file_7.csv', index_label='Id')"
   ]
  },
  {
   "cell_type": "code",
   "execution_count": null,
   "metadata": {},
   "outputs": [],
   "source": []
  }
 ],
 "metadata": {
  "kernelspec": {
   "display_name": "Python 3 (ipykernel)",
   "language": "python",
   "name": "python3"
  },
  "language_info": {
   "codemirror_mode": {
    "name": "ipython",
    "version": 3
   },
   "file_extension": ".py",
   "mimetype": "text/x-python",
   "name": "python",
   "nbconvert_exporter": "python",
   "pygments_lexer": "ipython3",
   "version": "3.8.8"
  }
 },
 "nbformat": 4,
 "nbformat_minor": 4
}
